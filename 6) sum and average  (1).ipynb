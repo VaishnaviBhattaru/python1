{
 "cells": [
  {
   "cell_type": "code",
   "execution_count": 1,
   "metadata": {},
   "outputs": [
    {
     "name": "stdout",
     "output_type": "stream",
     "text": [
      "Enter number 1 10\n",
      "enter number 2 20\n",
      "Enter number 3 30\n",
      "60\n",
      "20.0\n"
     ]
    }
   ],
   "source": [
    "n1 = int(input(\"Enter number 1 \"))\n",
    "n2 = int(input(\"enter number 2 \"))\n",
    "n3 = int(input(\"Enter number 3 \"))\n",
    "sum = n1+n2+n3\n",
    "print(sum)\n",
    "avg = sum/3\n",
    "print(avg)"
   ]
  },
  {
   "cell_type": "code",
   "execution_count": null,
   "metadata": {},
   "outputs": [],
   "source": []
  }
 ],
 "metadata": {
  "kernelspec": {
   "display_name": "Python 3",
   "language": "python",
   "name": "python3"
  },
  "language_info": {
   "codemirror_mode": {
    "name": "ipython",
    "version": 3
   },
   "file_extension": ".py",
   "mimetype": "text/x-python",
   "name": "python",
   "nbconvert_exporter": "python",
   "pygments_lexer": "ipython3",
   "version": "3.7.3"
  }
 },
 "nbformat": 4,
 "nbformat_minor": 2
}
