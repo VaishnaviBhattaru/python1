{
 "cells": [
  {
   "cell_type": "code",
   "execution_count": 1,
   "metadata": {},
   "outputs": [
    {
     "name": "stdout",
     "output_type": "stream",
     "text": [
      "enter the side1 length10\n",
      "enter the side2 length10\n",
      "enter the side3 length10\n",
      "exists\n"
     ]
    }
   ],
   "source": [
    "n1=(int(input(\"enter the side1 length\")))\n",
    "n2=(int(input(\"enter the side2 length\")))\n",
    "n3=(int(input(\"enter the side3 length\")))\n",
    "if (n1+n2)>n3 and (n1+n3)>n2 and(n3+n2)>n1:\n",
    "   print(\"exists\")\n",
    "else:\n",
    "   print(\"not possible\")"
   ]
  },
  {
   "cell_type": "code",
   "execution_count": null,
   "metadata": {},
   "outputs": [],
   "source": []
  }
 ],
 "metadata": {
  "kernelspec": {
   "display_name": "Python 3",
   "language": "python",
   "name": "python3"
  },
  "language_info": {
   "codemirror_mode": {
    "name": "ipython",
    "version": 3
   },
   "file_extension": ".py",
   "mimetype": "text/x-python",
   "name": "python",
   "nbconvert_exporter": "python",
   "pygments_lexer": "ipython3",
   "version": "3.7.3"
  }
 },
 "nbformat": 4,
 "nbformat_minor": 2
}
