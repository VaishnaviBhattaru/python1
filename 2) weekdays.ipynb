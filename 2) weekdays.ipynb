{
 "cells": [
  {
   "cell_type": "code",
   "execution_count": 3,
   "metadata": {},
   "outputs": [
    {
     "name": "stdout",
     "output_type": "stream",
     "text": [
      "Enter the week number:2\n",
      "weekDay = Monday\n"
     ]
    }
   ],
   "source": [
    "weeknumber = int(input(\"Enter the week number:\"))\n",
    "\n",
    "if (weeknumber == 1):\n",
    "   print(\"weekDay = Sunday\")\n",
    "elif (weeknumber == 2):\n",
    "   print(\"weekDay = Monday\")\n",
    "elif (weeknumber == 3):\n",
    "   print(\"weekDay = Tuesday\")\n",
    "elif (weeknumber == 4):\n",
    "   print(\"weekDay = Wednesday\")\n",
    "elif (weeknumber == 5):\n",
    "   print(\"weekDay = Thursday\")\n",
    "elif (weeknumber == 6):\n",
    "   print(\"weekDay = Friday\")\n",
    "elif (weeknumber == 7):\n",
    "   print(\"weekDay = Saturday\")\n",
    "else:\n",
    "    print (\"Please enter the week number between 1 and 7\")"
   ]
  },
  {
   "cell_type": "code",
   "execution_count": null,
   "metadata": {},
   "outputs": [],
   "source": []
  }
 ],
 "metadata": {
  "kernelspec": {
   "display_name": "Python 3",
   "language": "python",
   "name": "python3"
  },
  "language_info": {
   "codemirror_mode": {
    "name": "ipython",
    "version": 3
   },
   "file_extension": ".py",
   "mimetype": "text/x-python",
   "name": "python",
   "nbconvert_exporter": "python",
   "pygments_lexer": "ipython3",
   "version": "3.7.3"
  }
 },
 "nbformat": 4,
 "nbformat_minor": 2
}
