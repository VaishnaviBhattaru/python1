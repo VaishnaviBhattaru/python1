{
 "cells": [
  {
   "cell_type": "code",
   "execution_count": 1,
   "metadata": {},
   "outputs": [
    {
     "name": "stdout",
     "output_type": "stream",
     "text": [
      "Enter 1st number10\n",
      "Enter 2nd number20\n",
      "Enter 3rd number30\n",
      "30is the greatest\n"
     ]
    }
   ],
   "source": [
    "n1= int(input(\"Enter 1st number\"))\n",
    "n2= int(input(\"Enter 2nd number\"))\n",
    "n3= int(input(\"Enter 3rd number\"))\n",
    "if (n1>n2 and n1>n3):\n",
    "     print(str(n1)+\" is the greatest\")\n",
    "elif (n2>n1 and n2>n3):\n",
    "     print(str(n2)+\"is the greatest\")\n",
    "else:\n",
    "     print(str(n3)+\"is the greatest\")"
   ]
  },
  {
   "cell_type": "code",
   "execution_count": null,
   "metadata": {},
   "outputs": [],
   "source": []
  }
 ],
 "metadata": {
  "kernelspec": {
   "display_name": "Python 3",
   "language": "python",
   "name": "python3"
  },
  "language_info": {
   "codemirror_mode": {
    "name": "ipython",
    "version": 3
   },
   "file_extension": ".py",
   "mimetype": "text/x-python",
   "name": "python",
   "nbconvert_exporter": "python",
   "pygments_lexer": "ipython3",
   "version": "3.7.3"
  }
 },
 "nbformat": 4,
 "nbformat_minor": 2
}
